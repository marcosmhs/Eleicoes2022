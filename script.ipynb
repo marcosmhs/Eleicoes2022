{
 "cells": [
  {
   "cell_type": "code",
   "execution_count": 81,
   "metadata": {},
   "outputs": [],
   "source": [
    "import requests\n",
    "import json\n",
    "import pandas as pd"
   ]
  },
  {
   "cell_type": "code",
   "execution_count": 137,
   "metadata": {},
   "outputs": [
    {
     "name": "stdout",
     "output_type": "stream",
     "text": [
      "        Candidato    Votos Porcentagem\n",
      "0  JAIR BOLSONARO  1117675       48,81\n",
      "1            LULA   949366       41,46\n",
      "2    SIMONE TEBET   115315        5,04\n",
      "3      CIRO GOMES    78041        3,41\n"
     ]
    }
   ],
   "source": [
    "import requests\n",
    "import json\n",
    "import pandas as pd\n",
    "data = requests.get('https://resultados.tse.jus.br/oficial/ele2022/544/dados-simplificados/br/br-c0001-e000544-r.json')\n",
    "\n",
    "json_data = json.loads(data.content)\n",
    "\n",
    "candidado = []\n",
    "partido = []\n",
    "votos = []\n",
    "porcentagem = []\n",
    "\n",
    "for informacoes in json_data['cand']:\n",
    "    if informacoes['n'] == '13' or informacoes['n'] == '22' or informacoes['n'] == '12' or informacoes['n'] == '15':\n",
    "        candidado.append(informacoes['nm'])\n",
    "        votos.append(informacoes['vap'])\n",
    "        porcentagem.append(informacoes['pvap'])\n",
    "\n",
    "df_resultado = pd.DataFrame(list(zip(candidado, votos, porcentagem)), columns = ['Candidato', 'Votos', 'Porcentagem'])\n",
    "\n",
    "df_resultado['Votos'] = pd.to_numeric(df_resultado['Votos'])\n",
    "\n",
    "print(df_resultado.sort_values(by=['Votos'], ascending=False))"
   ]
  }
 ],
 "metadata": {
  "kernelspec": {
   "display_name": "Python 3.10.5 64-bit",
   "language": "python",
   "name": "python3"
  },
  "language_info": {
   "codemirror_mode": {
    "name": "ipython",
    "version": 3
   },
   "file_extension": ".py",
   "mimetype": "text/x-python",
   "name": "python",
   "nbconvert_exporter": "python",
   "pygments_lexer": "ipython3",
   "version": "3.10.5"
  },
  "orig_nbformat": 4,
  "vscode": {
   "interpreter": {
    "hash": "26de051ba29f2982a8de78e945f0abaf191376122a1563185a90213a26c5da77"
   }
  }
 },
 "nbformat": 4,
 "nbformat_minor": 2
}
